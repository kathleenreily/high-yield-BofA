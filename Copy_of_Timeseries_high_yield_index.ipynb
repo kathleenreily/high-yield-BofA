{
  "nbformat": 4,
  "nbformat_minor": 0,
  "metadata": {
    "colab": {
      "name": "Copy of Timeseries-high-yield-index.ipynb",
      "provenance": [],
      "authorship_tag": "ABX9TyP71edTo/vB7jGVxCvztEqe",
      "include_colab_link": true
    },
    "kernelspec": {
      "name": "python3",
      "display_name": "Python 3"
    }
  },
  "cells": [
    {
      "cell_type": "markdown",
      "metadata": {
        "id": "view-in-github",
        "colab_type": "text"
      },
      "source": [
        "<a href=\"https://colab.research.google.com/github/kathleenreily/high-yield-BofA/blob/master/Copy_of_Timeseries_high_yield_index.ipynb\" target=\"_parent\"><img src=\"https://colab.research.google.com/assets/colab-badge.svg\" alt=\"Open In Colab\"/></a>"
      ]
    },
    {
      "cell_type": "markdown",
      "metadata": {
        "id": "QrLA_daCFcFJ",
        "colab_type": "text"
      },
      "source": [
        "Objective:\n",
        "\n",
        "1) Plot the time series, along with any logical or necessary differences to get a stationary dataset\n",
        "\n",
        "2)Generate and interpret a PACF for the time series (and/or its differences)\n",
        "\n",
        "3) Generate 5 ARIMA specifications and evaluate their efficacy at modeling your data\n",
        "\n",
        "4) Choose one specification and make the case for that as a logical model for your dataset."
      ]
    },
    {
      "cell_type": "code",
      "metadata": {
        "id": "OfjSUWqI7Czu",
        "colab_type": "code",
        "colab": {}
      },
      "source": [
        "import numpy as np\n",
        "import pandas as pd\n",
        "import scipy\n",
        "from datetime import datetime\n",
        "import datetime as dt\n",
        "import matplotlib.pyplot as plt\n",
        "%matplotlib inline"
      ],
      "execution_count": null,
      "outputs": []
    },
    {
      "cell_type": "markdown",
      "metadata": {
        "id": "8xBouI2j9pJG",
        "colab_type": "text"
      },
      "source": [
        "Import Data"
      ]
    },
    {
      "cell_type": "code",
      "metadata": {
        "id": "G557v7pC9quU",
        "colab_type": "code",
        "colab": {
          "base_uri": "https://localhost:8080/",
          "height": 122
        },
        "outputId": "5538702e-fb22-41c5-84a2-c198f7df1feb"
      },
      "source": [
        "from google.colab import drive\n",
        "drive.mount('/content/drive')\n",
        "\n",
        "HYO_df = pd.read_csv('/content/drive/My Drive/DS projects and datasets/BofA High Yield Index Option.csv')"
      ],
      "execution_count": null,
      "outputs": [
        {
          "output_type": "stream",
          "text": [
            "Go to this URL in a browser: https://accounts.google.com/o/oauth2/auth?client_id=947318989803-6bn6qk8qdgf4n4g3pfee6491hc0brc4i.apps.googleusercontent.com&redirect_uri=urn%3aietf%3awg%3aoauth%3a2.0%3aoob&response_type=code&scope=email%20https%3a%2f%2fwww.googleapis.com%2fauth%2fdocs.test%20https%3a%2f%2fwww.googleapis.com%2fauth%2fdrive%20https%3a%2f%2fwww.googleapis.com%2fauth%2fdrive.photos.readonly%20https%3a%2f%2fwww.googleapis.com%2fauth%2fpeopleapi.readonly\n",
            "\n",
            "Enter your authorization code:\n",
            "··········\n",
            "Mounted at /content/drive\n"
          ],
          "name": "stdout"
        }
      ]
    },
    {
      "cell_type": "code",
      "metadata": {
        "id": "itt3gzoODsky",
        "colab_type": "code",
        "colab": {
          "base_uri": "https://localhost:8080/",
          "height": 419
        },
        "outputId": "d3925e40-0699-46ca-aab5-c677b2b0abbc"
      },
      "source": [
        "HYO_df"
      ],
      "execution_count": null,
      "outputs": [
        {
          "output_type": "execute_result",
          "data": {
            "text/html": [
              "<div>\n",
              "<style scoped>\n",
              "    .dataframe tbody tr th:only-of-type {\n",
              "        vertical-align: middle;\n",
              "    }\n",
              "\n",
              "    .dataframe tbody tr th {\n",
              "        vertical-align: top;\n",
              "    }\n",
              "\n",
              "    .dataframe thead th {\n",
              "        text-align: right;\n",
              "    }\n",
              "</style>\n",
              "<table border=\"1\" class=\"dataframe\">\n",
              "  <thead>\n",
              "    <tr style=\"text-align: right;\">\n",
              "      <th></th>\n",
              "      <th>DATE</th>\n",
              "      <th>BAMLH0A0HYM2</th>\n",
              "    </tr>\n",
              "  </thead>\n",
              "  <tbody>\n",
              "    <tr>\n",
              "      <th>0</th>\n",
              "      <td>2015-07-27</td>\n",
              "      <td>5.49</td>\n",
              "    </tr>\n",
              "    <tr>\n",
              "      <th>1</th>\n",
              "      <td>2015-07-28</td>\n",
              "      <td>5.44</td>\n",
              "    </tr>\n",
              "    <tr>\n",
              "      <th>2</th>\n",
              "      <td>2015-07-29</td>\n",
              "      <td>5.33</td>\n",
              "    </tr>\n",
              "    <tr>\n",
              "      <th>3</th>\n",
              "      <td>2015-07-30</td>\n",
              "      <td>5.26</td>\n",
              "    </tr>\n",
              "    <tr>\n",
              "      <th>4</th>\n",
              "      <td>2015-07-31</td>\n",
              "      <td>5.36</td>\n",
              "    </tr>\n",
              "    <tr>\n",
              "      <th>...</th>\n",
              "      <td>...</td>\n",
              "      <td>...</td>\n",
              "    </tr>\n",
              "    <tr>\n",
              "      <th>1318</th>\n",
              "      <td>2020-07-21</td>\n",
              "      <td>5.33</td>\n",
              "    </tr>\n",
              "    <tr>\n",
              "      <th>1319</th>\n",
              "      <td>2020-07-22</td>\n",
              "      <td>5.28</td>\n",
              "    </tr>\n",
              "    <tr>\n",
              "      <th>1320</th>\n",
              "      <td>2020-07-23</td>\n",
              "      <td>5.26</td>\n",
              "    </tr>\n",
              "    <tr>\n",
              "      <th>1321</th>\n",
              "      <td>2020-07-24</td>\n",
              "      <td>5.29</td>\n",
              "    </tr>\n",
              "    <tr>\n",
              "      <th>1322</th>\n",
              "      <td>2020-07-27</td>\n",
              "      <td>5.24</td>\n",
              "    </tr>\n",
              "  </tbody>\n",
              "</table>\n",
              "<p>1323 rows × 2 columns</p>\n",
              "</div>"
            ],
            "text/plain": [
              "            DATE BAMLH0A0HYM2\n",
              "0     2015-07-27         5.49\n",
              "1     2015-07-28         5.44\n",
              "2     2015-07-29         5.33\n",
              "3     2015-07-30         5.26\n",
              "4     2015-07-31         5.36\n",
              "...          ...          ...\n",
              "1318  2020-07-21         5.33\n",
              "1319  2020-07-22         5.28\n",
              "1320  2020-07-23         5.26\n",
              "1321  2020-07-24         5.29\n",
              "1322  2020-07-27         5.24\n",
              "\n",
              "[1323 rows x 2 columns]"
            ]
          },
          "metadata": {
            "tags": []
          },
          "execution_count": 4
        }
      ]
    },
    {
      "cell_type": "markdown",
      "metadata": {
        "id": "mBHsix9_D8r3",
        "colab_type": "text"
      },
      "source": [
        "Rename price for readability "
      ]
    },
    {
      "cell_type": "code",
      "metadata": {
        "id": "fhK-4INjEB-j",
        "colab_type": "code",
        "colab": {}
      },
      "source": [
        "HYO_df = HYO_df.rename(columns={'BAMLH0A0HYM2': 'PRICE'})"
      ],
      "execution_count": null,
      "outputs": []
    },
    {
      "cell_type": "code",
      "metadata": {
        "id": "bVWBalqUEreG",
        "colab_type": "code",
        "colab": {
          "base_uri": "https://localhost:8080/",
          "height": 204
        },
        "outputId": "7488fb36-ce9b-4eb5-d7b7-0bf27be555c9"
      },
      "source": [
        "HYO_df.head()"
      ],
      "execution_count": null,
      "outputs": [
        {
          "output_type": "execute_result",
          "data": {
            "text/html": [
              "<div>\n",
              "<style scoped>\n",
              "    .dataframe tbody tr th:only-of-type {\n",
              "        vertical-align: middle;\n",
              "    }\n",
              "\n",
              "    .dataframe tbody tr th {\n",
              "        vertical-align: top;\n",
              "    }\n",
              "\n",
              "    .dataframe thead th {\n",
              "        text-align: right;\n",
              "    }\n",
              "</style>\n",
              "<table border=\"1\" class=\"dataframe\">\n",
              "  <thead>\n",
              "    <tr style=\"text-align: right;\">\n",
              "      <th></th>\n",
              "      <th>DATE</th>\n",
              "      <th>PRICE</th>\n",
              "    </tr>\n",
              "  </thead>\n",
              "  <tbody>\n",
              "    <tr>\n",
              "      <th>0</th>\n",
              "      <td>2015-07-27</td>\n",
              "      <td>5.49</td>\n",
              "    </tr>\n",
              "    <tr>\n",
              "      <th>1</th>\n",
              "      <td>2015-07-28</td>\n",
              "      <td>5.44</td>\n",
              "    </tr>\n",
              "    <tr>\n",
              "      <th>2</th>\n",
              "      <td>2015-07-29</td>\n",
              "      <td>5.33</td>\n",
              "    </tr>\n",
              "    <tr>\n",
              "      <th>3</th>\n",
              "      <td>2015-07-30</td>\n",
              "      <td>5.26</td>\n",
              "    </tr>\n",
              "    <tr>\n",
              "      <th>4</th>\n",
              "      <td>2015-07-31</td>\n",
              "      <td>5.36</td>\n",
              "    </tr>\n",
              "  </tbody>\n",
              "</table>\n",
              "</div>"
            ],
            "text/plain": [
              "         DATE PRICE\n",
              "0  2015-07-27  5.49\n",
              "1  2015-07-28  5.44\n",
              "2  2015-07-29  5.33\n",
              "3  2015-07-30  5.26\n",
              "4  2015-07-31  5.36"
            ]
          },
          "metadata": {
            "tags": []
          },
          "execution_count": 7
        }
      ]
    },
    {
      "cell_type": "markdown",
      "metadata": {
        "id": "QNMy72saeGCd",
        "colab_type": "text"
      },
      "source": [
        "Convert exchange rate to a number, with coersion to throw NA's if conversion not possible"
      ]
    },
    {
      "cell_type": "code",
      "metadata": {
        "id": "JHrY5IUmEwWA",
        "colab_type": "code",
        "colab": {}
      },
      "source": [
        "\n",
        "HYO_df['PRICE'] = pd.to_numeric(HYO_df.PRICE, errors='coerce')\n",
        "\n",
        "# Remove NA's\n",
        "HYO_df.dropna(inplace=True)"
      ],
      "execution_count": null,
      "outputs": []
    },
    {
      "cell_type": "markdown",
      "metadata": {
        "id": "NhVOJORHeJ4-",
        "colab_type": "text"
      },
      "source": [
        "As we can see the x axis is not readable, let's create a date index for the bottom"
      ]
    },
    {
      "cell_type": "code",
      "metadata": {
        "id": "n0m8K-X6GzRU",
        "colab_type": "code",
        "colab": {
          "base_uri": "https://localhost:8080/",
          "height": 285
        },
        "outputId": "25b6283a-2814-449c-9b7d-43a9025c797e"
      },
      "source": [
        "\n",
        "HYO_df.index = pd.to_datetime(HYO_df.DATE)\n",
        "HYO_df.plot()\n",
        "plt.title('High Yield Index Time Series')\n",
        "plt.show()"
      ],
      "execution_count": null,
      "outputs": [
        {
          "output_type": "display_data",
          "data": {
            "image/png": "[encoded data removed]",
            "text/plain": [
              "<Figure size 432x288 with 1 Axes>"
            ]
          },
          "metadata": {
            "tags": [],
            "needs_background": "light"
          }
        }
      ]
    },
    {
      "cell_type": "markdown",
      "metadata": {
        "id": "5zKGBi4THhXv",
        "colab_type": "text"
      },
      "source": [
        "1) Create our stationary dataset"
      ]
    },
    {
      "cell_type": "code",
      "metadata": {
        "id": "7G_DF8dCHjQr",
        "colab_type": "code",
        "colab": {
          "base_uri": "https://localhost:8080/",
          "height": 285
        },
        "outputId": "cba31ea1-4382-4738-ff08-0c36b7a3cc6c"
      },
      "source": [
        "HYO_df['diff_1'] = HYO_df.PRICE - HYO_df.PRICE.shift()\n",
        "HYO_df.plot(y='diff_1')\n",
        "plt.title('High Yield Index Time Series')\n",
        "plt.show()"
      ],
      "execution_count": null,
      "outputs": [
        {
          "output_type": "display_data",
          "data": {
            "image/png": "[encoded data removed]",
            "text/plain": [
              "<Figure size 432x288 with 1 Axes>"
            ]
          },
          "metadata": {
            "tags": [],
            "needs_background": "light"
          }
        }
      ]
    },
    {
      "cell_type": "markdown",
      "metadata": {
        "id": "RztuFetiIAng",
        "colab_type": "text"
      },
      "source": [
        "2) PACF with differences"
      ]
    },
    {
      "cell_type": "code",
      "metadata": {
        "id": "Lr3x0pwhIEkd",
        "colab_type": "code",
        "colab": {
          "base_uri": "https://localhost:8080/",
          "height": 355
        },
        "outputId": "065777ca-6e87-4044-9a36-b76e90d8743d"
      },
      "source": [
        "#initial time series\n",
        "\n",
        "from statsmodels.tsa.stattools import pacf\n",
        "x_acf = pd.DataFrame(pacf(HYO_df.PRICE))\n",
        "x_acf.plot(kind='bar')\n",
        "plt.title(\"High Yield Index PACF\")"
      ],
      "execution_count": null,
      "outputs": [
        {
          "output_type": "stream",
          "text": [
            "/usr/local/lib/python3.6/dist-packages/statsmodels/tools/_testing.py:19: FutureWarning: pandas.util.testing is deprecated. Use the functions in the public API at pandas.testing instead.\n",
            "  import pandas.util.testing as tm\n"
          ],
          "name": "stderr"
        },
        {
          "output_type": "execute_result",
          "data": {
            "text/plain": [
              "Text(0.5, 1.0, 'High Yield Index PACF')"
            ]
          },
          "metadata": {
            "tags": []
          },
          "execution_count": 17
        },
        {
          "output_type": "display_data",
          "data": {
            "image/png": "[encoded data removed]",
            "text/plain": [
              "<Figure size 432x288 with 1 Axes>"
            ]
          },
          "metadata": {
            "tags": [],
            "needs_background": "light"
          }
        }
      ]
    },
    {
      "cell_type": "code",
      "metadata": {
        "id": "MRHEk3A0IS4K",
        "colab_type": "code",
        "colab": {
          "base_uri": "https://localhost:8080/",
          "height": 301
        },
        "outputId": "cc9f24d1-93b3-4e88-921b-9684e043d804"
      },
      "source": [
        "#differenced time series\n",
        "\n",
        "x_acf = pd.DataFrame(pacf(HYO_df.diff_1[1:]))\n",
        "x_acf.plot(kind='bar')\n",
        "plt.title(\"S&P 500 Diff PACF\")\n",
        "plt.legend([\"High Yield Index PACF\"])"
      ],
      "execution_count": null,
      "outputs": [
        {
          "output_type": "execute_result",
          "data": {
            "text/plain": [
              "<matplotlib.legend.Legend at 0x7f0781c259e8>"
            ]
          },
          "metadata": {
            "tags": []
          },
          "execution_count": 18
        },
        {
          "output_type": "display_data",
          "data": {
            "image/png": "[encoded data removed]",
            "text/plain": [
              "<Figure size 432x288 with 1 Axes>"
            ]
          },
          "metadata": {
            "tags": [],
            "needs_background": "light"
          }
        }
      ]
    },
    {
      "cell_type": "markdown",
      "metadata": {
        "id": "Exmv-Gh7Iid6",
        "colab_type": "text"
      },
      "source": [
        "3) Create 5 different ARIMA models with unique specifications"
      ]
    },
    {
      "cell_type": "code",
      "metadata": {
        "id": "moqvXqKXIrXR",
        "colab_type": "code",
        "colab": {
          "base_uri": "https://localhost:8080/",
          "height": 513
        },
        "outputId": "d01a5316-06fd-4aa1-9ed1-de716ecb1715"
      },
      "source": [
        "\n",
        "\n",
        "from statsmodels.tsa.arima_model import ARIMA\n",
        "model = ARIMA(HYO_df.PRICE, order=(0,1,0)) \n",
        "model_fit = model.fit()\n",
        "print(model_fit.summary())\n",
        "print('Residuals Description')\n",
        "print(model_fit.resid.describe())\n",
        "\n"
      ],
      "execution_count": null,
      "outputs": [
        {
          "output_type": "stream",
          "text": [
            "                             ARIMA Model Results                              \n",
            "==============================================================================\n",
            "Dep. Variable:                D.PRICE   No. Observations:                 1305\n",
            "Model:                 ARIMA(0, 1, 0)   Log Likelihood                 947.571\n",
            "Method:                           css   S.D. of innovations              0.117\n",
            "Date:                Tue, 28 Jul 2020   AIC                          -1891.143\n",
            "Time:                        15:56:18   BIC                          -1880.795\n",
            "Sample:                             1   HQIC                         -1887.261\n",
            "                                                                              \n",
            "==============================================================================\n",
            "                 coef    std err          z      P>|z|      [0.025      0.975]\n",
            "------------------------------------------------------------------------------\n",
            "const         -0.0002      0.003     -0.059      0.953      -0.007       0.006\n",
            "==============================================================================\n",
            "Residuals Description\n",
            "count    1.305000e+03\n",
            "mean     1.381973e-11\n",
            "std      1.171074e-01\n",
            "min     -8.498084e-01\n",
            "25%     -4.980843e-02\n",
            "50%      1.915709e-04\n",
            "75%      4.019157e-02\n",
            "max      1.070192e+00\n",
            "dtype: float64\n"
          ],
          "name": "stdout"
        },
        {
          "output_type": "stream",
          "text": [
            "/usr/local/lib/python3.6/dist-packages/statsmodels/tsa/base/tsa_model.py:219: ValueWarning: A date index has been provided, but it has no associated frequency information and so will be ignored when e.g. forecasting.\n",
            "  ' ignored when e.g. forecasting.', ValueWarning)\n",
            "/usr/local/lib/python3.6/dist-packages/statsmodels/tsa/base/tsa_model.py:219: ValueWarning: A date index has been provided, but it has no associated frequency information and so will be ignored when e.g. forecasting.\n",
            "  ' ignored when e.g. forecasting.', ValueWarning)\n"
          ],
          "name": "stderr"
        }
      ]
    },
    {
      "cell_type": "markdown",
      "metadata": {
        "id": "kReBlCbLelWo",
        "colab_type": "text"
      },
      "source": [
        "Because we are using a model that is a derviation of ordinary least squares, a higher p val (0.95) is saying the coefficients are strong/very likely, this model is a good possibility"
      ]
    },
    {
      "cell_type": "code",
      "metadata": {
        "id": "FnuvetnfI5lX",
        "colab_type": "code",
        "colab": {
          "base_uri": "https://localhost:8080/",
          "height": 615
        },
        "outputId": "ef1360f4-433c-435a-833a-1fdc54233e99"
      },
      "source": [
        "from statsmodels.tsa.arima_model import ARIMA\n",
        "model = ARIMA(HYO_df.PRICE, order=(2,0,0))\n",
        "model_fit = model.fit()\n",
        "print(model_fit.summary())\n",
        "print('Residuals Description')\n",
        "print(model_fit.resid.describe())\n",
        "\n"
      ],
      "execution_count": null,
      "outputs": [
        {
          "output_type": "stream",
          "text": [
            "                              ARMA Model Results                              \n",
            "==============================================================================\n",
            "Dep. Variable:                  PRICE   No. Observations:                 1306\n",
            "Model:                     ARMA(2, 0)   Log Likelihood                 982.475\n",
            "Method:                       css-mle   S.D. of innovations              0.114\n",
            "Date:                Tue, 28 Jul 2020   AIC                          -1956.951\n",
            "Time:                        16:34:29   BIC                          -1936.252\n",
            "Sample:                             0   HQIC                         -1949.186\n",
            "                                                                              \n",
            "===============================================================================\n",
            "                  coef    std err          z      P>|z|      [0.025      0.975]\n",
            "-------------------------------------------------------------------------------\n",
            "const           4.8443      0.602      8.046      0.000       3.664       6.024\n",
            "ar.L1.PRICE     1.2239      0.027     45.467      0.000       1.171       1.277\n",
            "ar.L2.PRICE    -0.2286      0.027     -8.491      0.000      -0.281      -0.176\n",
            "                                    Roots                                    \n",
            "=============================================================================\n",
            "                  Real          Imaginary           Modulus         Frequency\n",
            "-----------------------------------------------------------------------------\n",
            "AR.1            1.0061           +0.0000j            1.0061            0.0000\n",
            "AR.2            4.3481           +0.0000j            4.3481            0.0000\n",
            "-----------------------------------------------------------------------------\n",
            "Residuals Description\n",
            "count    1306.000000\n",
            "mean       -0.000275\n",
            "std         0.115249\n",
            "min        -0.815386\n",
            "25%        -0.048771\n",
            "50%        -0.004640\n",
            "75%         0.040765\n",
            "max         1.106717\n",
            "dtype: float64\n"
          ],
          "name": "stdout"
        },
        {
          "output_type": "stream",
          "text": [
            "/usr/local/lib/python3.6/dist-packages/statsmodels/tsa/base/tsa_model.py:219: ValueWarning: A date index has been provided, but it has no associated frequency information and so will be ignored when e.g. forecasting.\n",
            "  ' ignored when e.g. forecasting.', ValueWarning)\n"
          ],
          "name": "stderr"
        }
      ]
    },
    {
      "cell_type": "markdown",
      "metadata": {
        "id": "Elv-d4kJe8D1",
        "colab_type": "text"
      },
      "source": [
        "\n",
        "This one has lower AIC, which is better than the first"
      ]
    },
    {
      "cell_type": "code",
      "metadata": {
        "id": "Z30tzAdbJCLd",
        "colab_type": "code",
        "colab": {
          "base_uri": "https://localhost:8080/",
          "height": 615
        },
        "outputId": "8c5a7fa3-f679-46a8-c473-9cd8c6dbea52"
      },
      "source": [
        "from statsmodels.tsa.arima_model import ARIMA\n",
        "model = ARIMA(HYO_df.PRICE, order=(1,0,1))\n",
        "model_fit = model.fit()\n",
        "print(model_fit.summary())\n",
        "print('Residuals Description')\n",
        "print(model_fit.resid.describe())\n"
      ],
      "execution_count": null,
      "outputs": [
        {
          "output_type": "stream",
          "text": [
            "/usr/local/lib/python3.6/dist-packages/statsmodels/tsa/base/tsa_model.py:219: ValueWarning: A date index has been provided, but it has no associated frequency information and so will be ignored when e.g. forecasting.\n",
            "  ' ignored when e.g. forecasting.', ValueWarning)\n"
          ],
          "name": "stderr"
        },
        {
          "output_type": "stream",
          "text": [
            "                              ARMA Model Results                              \n",
            "==============================================================================\n",
            "Dep. Variable:                  PRICE   No. Observations:                 1306\n",
            "Model:                     ARMA(1, 1)   Log Likelihood                 973.085\n",
            "Method:                       css-mle   S.D. of innovations              0.115\n",
            "Date:                Tue, 28 Jul 2020   AIC                          -1938.170\n",
            "Time:                        15:57:15   BIC                          -1917.471\n",
            "Sample:                             0   HQIC                         -1930.406\n",
            "                                                                              \n",
            "===============================================================================\n",
            "                  coef    std err          z      P>|z|      [0.025      0.975]\n",
            "-------------------------------------------------------------------------------\n",
            "const           4.8629      0.639      7.606      0.000       3.610       6.116\n",
            "ar.L1.PRICE     0.9949      0.002    398.816      0.000       0.990       1.000\n",
            "ma.L1.PRICE     0.1719      0.024      7.222      0.000       0.125       0.218\n",
            "                                    Roots                                    \n",
            "=============================================================================\n",
            "                  Real          Imaginary           Modulus         Frequency\n",
            "-----------------------------------------------------------------------------\n",
            "AR.1            1.0052           +0.0000j            1.0052            0.0000\n",
            "MA.1           -5.8188           +0.0000j            5.8188            0.5000\n",
            "-----------------------------------------------------------------------------\n",
            "Residuals Description\n",
            "count    1306.000000\n",
            "mean       -0.000342\n",
            "std         0.115985\n",
            "min        -0.830853\n",
            "25%        -0.048419\n",
            "50%        -0.005729\n",
            "75%         0.039167\n",
            "max         1.121776\n",
            "dtype: float64\n"
          ],
          "name": "stdout"
        }
      ]
    },
    {
      "cell_type": "markdown",
      "metadata": {
        "id": "CFhfe-cYfD5b",
        "colab_type": "text"
      },
      "source": [
        "L2 is high 0.99 which is good and the AIC is lower than the last model, which is better, but the p value is still 0"
      ]
    },
    {
      "cell_type": "code",
      "metadata": {
        "id": "kjiQcCKUJG4_",
        "colab_type": "code",
        "colab": {
          "base_uri": "https://localhost:8080/",
          "height": 649
        },
        "outputId": "815755a9-04e6-4ed4-bf8f-16e2f20c9112"
      },
      "source": [
        "from statsmodels.tsa.arima_model import ARIMA\n",
        "model = ARIMA(HYO_df.PRICE, order=(1,1,1))\n",
        "model_fit = model.fit()\n",
        "print(model_fit.summary())\n",
        "print('Residuals Description')\n",
        "print(model_fit.resid.describe())\n"
      ],
      "execution_count": null,
      "outputs": [
        {
          "output_type": "stream",
          "text": [
            "/usr/local/lib/python3.6/dist-packages/statsmodels/tsa/base/tsa_model.py:219: ValueWarning: A date index has been provided, but it has no associated frequency information and so will be ignored when e.g. forecasting.\n",
            "  ' ignored when e.g. forecasting.', ValueWarning)\n",
            "/usr/local/lib/python3.6/dist-packages/statsmodels/tsa/base/tsa_model.py:219: ValueWarning: A date index has been provided, but it has no associated frequency information and so will be ignored when e.g. forecasting.\n",
            "  ' ignored when e.g. forecasting.', ValueWarning)\n"
          ],
          "name": "stderr"
        },
        {
          "output_type": "stream",
          "text": [
            "                             ARIMA Model Results                              \n",
            "==============================================================================\n",
            "Dep. Variable:                D.PRICE   No. Observations:                 1305\n",
            "Model:                 ARIMA(1, 1, 1)   Log Likelihood                 995.933\n",
            "Method:                       css-mle   S.D. of innovations              0.113\n",
            "Date:                Tue, 28 Jul 2020   AIC                          -1983.867\n",
            "Time:                        15:57:33   BIC                          -1963.171\n",
            "Sample:                             1   HQIC                         -1976.103\n",
            "                                                                              \n",
            "=================================================================================\n",
            "                    coef    std err          z      P>|z|      [0.025      0.975]\n",
            "---------------------------------------------------------------------------------\n",
            "const            -0.0003      0.005     -0.053      0.958      -0.010       0.010\n",
            "ar.L1.D.PRICE     0.6485      0.061     10.595      0.000       0.529       0.769\n",
            "ma.L1.D.PRICE    -0.4375      0.071     -6.156      0.000      -0.577      -0.298\n",
            "                                    Roots                                    \n",
            "=============================================================================\n",
            "                  Real          Imaginary           Modulus         Frequency\n",
            "-----------------------------------------------------------------------------\n",
            "AR.1            1.5419           +0.0000j            1.5419            0.0000\n",
            "MA.1            2.2856           +0.0000j            2.2856            0.0000\n",
            "-----------------------------------------------------------------------------\n",
            "Residuals Description\n",
            "count    1305.000000\n",
            "mean        0.000032\n",
            "std         0.112844\n",
            "min        -0.798929\n",
            "25%        -0.044918\n",
            "50%        -0.000969\n",
            "75%         0.040919\n",
            "max         1.004210\n",
            "dtype: float64\n"
          ],
          "name": "stdout"
        }
      ]
    },
    {
      "cell_type": "markdown",
      "metadata": {
        "id": "9x4bqXG7fJoE",
        "colab_type": "text"
      },
      "source": [
        "Our error score is -0.43 so accounts for no errors, AIC is too high compared to the last one, and the price yesterday moderately determines today's price...not the best model perameters "
      ]
    },
    {
      "cell_type": "code",
      "metadata": {
        "id": "L9vVbmFzJLfR",
        "colab_type": "code",
        "colab": {
          "base_uri": "https://localhost:8080/",
          "height": 819
        },
        "outputId": "4baab806-19f5-4f8c-8703-5dd8fb69e660"
      },
      "source": [
        "from statsmodels.tsa.arima_model import ARIMA\n",
        "model = ARIMA(HYO_df.PRICE, order=(2,1,5))\n",
        "model_fit = model.fit()\n",
        "print(model_fit.summary())\n",
        "print('Residuals Description')\n",
        "print(model_fit.resid.describe())\n"
      ],
      "execution_count": null,
      "outputs": [
        {
          "output_type": "stream",
          "text": [
            "/usr/local/lib/python3.6/dist-packages/statsmodels/tsa/base/tsa_model.py:219: ValueWarning: A date index has been provided, but it has no associated frequency information and so will be ignored when e.g. forecasting.\n",
            "  ' ignored when e.g. forecasting.', ValueWarning)\n",
            "/usr/local/lib/python3.6/dist-packages/statsmodels/tsa/base/tsa_model.py:219: ValueWarning: A date index has been provided, but it has no associated frequency information and so will be ignored when e.g. forecasting.\n",
            "  ' ignored when e.g. forecasting.', ValueWarning)\n"
          ],
          "name": "stderr"
        },
        {
          "output_type": "stream",
          "text": [
            "                             ARIMA Model Results                              \n",
            "==============================================================================\n",
            "Dep. Variable:                D.PRICE   No. Observations:                 1305\n",
            "Model:                 ARIMA(2, 1, 5)   Log Likelihood                1024.597\n",
            "Method:                       css-mle   S.D. of innovations              0.110\n",
            "Date:                Tue, 28 Jul 2020   AIC                          -2031.194\n",
            "Time:                        16:48:22   BIC                          -1984.628\n",
            "Sample:                             1   HQIC                         -2013.725\n",
            "                                                                              \n",
            "=================================================================================\n",
            "                    coef    std err          z      P>|z|      [0.025      0.975]\n",
            "---------------------------------------------------------------------------------\n",
            "const            -0.0002      0.005     -0.053      0.958      -0.009       0.009\n",
            "ar.L1.D.PRICE    -1.6523      0.035    -47.075      0.000      -1.721      -1.583\n",
            "ar.L2.D.PRICE    -0.9094      0.038    -23.654      0.000      -0.985      -0.834\n",
            "ma.L1.D.PRICE     1.8659      0.045     41.498      0.000       1.778       1.954\n",
            "ma.L2.D.PRICE     1.4574      0.074     19.715      0.000       1.312       1.602\n",
            "ma.L3.D.PRICE     0.6266      0.069      9.036      0.000       0.491       0.762\n",
            "ma.L4.D.PRICE     0.3267      0.063      5.221      0.000       0.204       0.449\n",
            "ma.L5.D.PRICE     0.1017      0.031      3.242      0.001       0.040       0.163\n",
            "                                    Roots                                    \n",
            "=============================================================================\n",
            "                  Real          Imaginary           Modulus         Frequency\n",
            "-----------------------------------------------------------------------------\n",
            "AR.1           -0.9085           -0.5238j            1.0486           -0.4168\n",
            "AR.2           -0.9085           +0.5238j            1.0486            0.4168\n",
            "MA.1           -0.9517           -0.5591j            1.1038           -0.4155\n",
            "MA.2           -0.9517           +0.5591j            1.1038            0.4155\n",
            "MA.3            0.3668           -1.9535j            1.9876           -0.2205\n",
            "MA.4            0.3668           +1.9535j            1.9876            0.2205\n",
            "MA.5           -2.0437           -0.0000j            2.0437           -0.5000\n",
            "-----------------------------------------------------------------------------\n",
            "Residuals Description\n",
            "count    1305.000000\n",
            "mean        0.000029\n",
            "std         0.110390\n",
            "min        -0.645056\n",
            "25%        -0.046467\n",
            "50%        -0.002156\n",
            "75%         0.040886\n",
            "max         0.890919\n",
            "dtype: float64\n"
          ],
          "name": "stdout"
        }
      ]
    },
    {
      "cell_type": "markdown",
      "metadata": {
        "id": "TwkHcyxafT55",
        "colab_type": "text"
      },
      "source": [
        "This is the best performing model so far the price two days ago is more reflected in todays price then the one yesterday, the p vals are 0 the errors are largely accounted for. \n",
        "\n",
        "I am choosing this model for the reasons stated above"
      ]
    },
    {
      "cell_type": "markdown",
      "metadata": {
        "id": "A7kHGBV7JlYE",
        "colab_type": "text"
      },
      "source": [
        "5) Choose the best model specification and provide rational:"
      ]
    },
    {
      "cell_type": "markdown",
      "metadata": {
        "id": "903PmF8uJuS5",
        "colab_type": "text"
      },
      "source": [
        "The lower AIC (-2031, furthest away from 0) the better so this is the best performing model so far\n",
        "the price two days ago is more reflected in todays price then the one yesterday, the p vals are 0\n",
        "the errors are largely accounted for. \n",
        "\n",
        "I am choosing the last model perameters 2,1,5 for the reasons stated above"
      ]
    }
  ]
}